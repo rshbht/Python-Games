{
  "nbformat": 4,
  "nbformat_minor": 0,
  "metadata": {
    "colab": {
      "provenance": []
    },
    "kernelspec": {
      "name": "python3",
      "display_name": "Python 3"
    },
    "language_info": {
      "name": "python"
    }
  },
  "cells": [
    {
      "cell_type": "code",
      "execution_count": null,
      "metadata": {
        "colab": {
          "base_uri": "https://localhost:8080/"
        },
        "id": "RZGnqsdSPae4",
        "outputId": "e33cb94d-85ad-4f2e-dc04-b03c256cb496"
      },
      "outputs": [
        {
          "output_type": "stream",
          "name": "stdout",
          "text": [
            "_ _ _\n"
          ]
        }
      ],
      "source": [
        "import random\n",
        "\n",
        "# list of words to choose from\n",
        "words = ['python', 'javascript', 'java', 'ruby', 'php']\n",
        "\n",
        "# choose a random word from the list\n",
        "word = random.choice(words)\n",
        "\n",
        "# initialize the guessed letters list\n",
        "guessed_letters = []\n",
        "\n",
        "# loop until the user guesses the word or runs out of guesses\n",
        "while True:\n",
        "    # print the current state of the word, with underscores for unguessed letters\n",
        "    print(\" \".join([letter if letter in guessed_letters else \"_\" for letter in word]))\n",
        "\n",
        "    # prompt the user to guess a letter\n",
        "    guess = input(\"Guess a letter: \")\n",
        "\n",
        "    # add the guessed letter to the list\n",
        "    guessed_letters.append(guess)\n",
        "\n",
        "    # check if the guess is correct\n",
        "    if guess in word:\n",
        "        print(\"Correct!\")\n",
        "\n",
        "        # check if the user has guessed all the letters\n",
        "        if set(guessed_letters) == set(word):\n",
        "            print(\"Congratulations, you guessed the word!\")\n",
        "            break\n",
        "\n",
        "    # provide a hint if the guess is incorrect\n",
        "    else:\n",
        "        print(\"Incorrect, try again.\")\n",
        "\n",
        "    # check if the user has run out of guesses\n",
        "    if len(guessed_letters) == 10:\n",
        "        print(\"Sorry, you have run out of guesses. The word was {}.\".format(word))\n",
        "        break\n"
      ]
    }
  ]
}