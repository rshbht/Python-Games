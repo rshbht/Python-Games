{
  "nbformat": 4,
  "nbformat_minor": 0,
  "metadata": {
    "colab": {
      "provenance": []
    },
    "kernelspec": {
      "name": "python3",
      "display_name": "Python 3"
    },
    "language_info": {
      "name": "python"
    }
  },
  "cells": [
    {
      "cell_type": "code",
      "execution_count": null,
      "metadata": {
        "id": "Zpv-cF-pOGA9"
      },
      "outputs": [],
      "source": [
        "import random\n",
        "\n",
        "# generate a random number between 1 and 100\n",
        "secret_number = random.randint(1, 100)\n",
        "\n",
        "# initialize the number of guesses to 0\n",
        "num_guesses = 0\n",
        "\n",
        "# loop until the user guesses the correct number or runs out of guesses\n",
        "while True:\n",
        "    # prompt the user to guess a number\n",
        "    guess = input(\"Guess a number between 1 and 100: \")\n",
        "\n",
        "    # increment the number of guesses\n",
        "    num_guesses += 1\n",
        "\n",
        "    # check if the guess is correct\n",
        "    if int(guess) == secret_number:\n",
        "        print(\"Congratulations, you guessed the correct number in {} guesses!\".format(num_guesses))\n",
        "        break\n",
        "\n",
        "    # provide a hint if the guess is too high or too low\n",
        "    elif int(guess) < secret_number:\n",
        "        print(\"Too low, try again.\")\n",
        "\n",
        "    else:\n",
        "        print(\"Too high, try again.\")\n",
        "\n",
        "    # check if the user has run out of guesses\n",
        "    if num_guesses == 10:\n",
        "        print(\"Sorry, you have run out of guesses. The correct number was {}.\".format(secret_number))\n",
        "        break\n",
        "\n"
      ]
    }
  ]
}