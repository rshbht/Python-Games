{
  "nbformat": 4,
  "nbformat_minor": 0,
  "metadata": {
    "colab": {
      "provenance": []
    },
    "kernelspec": {
      "name": "python3",
      "display_name": "Python 3"
    },
    "language_info": {
      "name": "python"
    }
  },
  "cells": [
    {
      "cell_type": "code",
      "source": [
        "import random\n",
        "\n",
        "# Generate a random number between 1 and 100\n",
        "prev_num = random.randint(1, 100)\n",
        "\n",
        "# Loop until the player guesses incorrectly\n",
        "while True:\n",
        "    # Prompt the player to guess whether the next number will be higher or lower\n",
        "    guess = input(\"Will the next number be 'higher' or 'lower' than \" + str(prev_num) + \"? \")\n",
        "\n",
        "    # Generate a new random number\n",
        "    new_num = random.randint(1, 100)\n",
        "\n",
        "    # Check if the player's guess is correct\n",
        "    if (guess == \"higher\" and new_num > prev_num) or (guess == \"lower\" and new_num < prev_num):\n",
        "        print(\"Correct! The new number is\", new_num)\n",
        "        prev_num = new_num\n",
        "    else:\n",
        "        print(\"Incorrect! The new number is\", new_num)\n",
        "        break\n"
      ],
      "metadata": {
        "id": "yp5vg3fCCGci"
      },
      "execution_count": null,
      "outputs": []
    }
  ]
}