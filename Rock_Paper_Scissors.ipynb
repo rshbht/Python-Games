{
  "nbformat": 4,
  "nbformat_minor": 0,
  "metadata": {
    "colab": {
      "provenance": []
    },
    "kernelspec": {
      "name": "python3",
      "display_name": "Python 3"
    },
    "language_info": {
      "name": "python"
    }
  },
  "cells": [
    {
      "cell_type": "code",
      "execution_count": null,
      "metadata": {
        "id": "ZcMf9Pg8RLFo"
      },
      "outputs": [],
      "source": [
        "import random\n",
        "\n",
        "# Define the choices\n",
        "choices = [\"rock\", \"paper\", \"scissors\"]\n",
        "\n",
        "# Prompt the player to choose\n",
        "player_choice = input(\"Choose rock, paper, or scissors: \")\n",
        "\n",
        "# Generate a random choice for the computer\n",
        "computer_choice = random.choice(choices)\n",
        "\n",
        "# Determine the winner\n",
        "if player_choice == computer_choice:\n",
        "    print(\"It's a tie!\")\n",
        "elif player_choice == \"rock\" and computer_choice == \"scissors\":\n",
        "    print(\"You win! Rock beats scissors.\")\n",
        "elif player_choice == \"paper\" and computer_choice == \"rock\":\n",
        "    print(\"You win! Paper beats rock.\")\n",
        "elif player_choice == \"scissors\" and computer_choice == \"paper\":\n",
        "    print(\"You win! Scissors beat paper.\")\n",
        "else:\n",
        "    print(\"Computer wins! {} beats {}.\".format(computer_choice, player_choice))"
      ]
    }
  ]
}