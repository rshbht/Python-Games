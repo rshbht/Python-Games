{
  "nbformat": 4,
  "nbformat_minor": 0,
  "metadata": {
    "colab": {
      "provenance": []
    },
    "kernelspec": {
      "name": "python3",
      "display_name": "Python 3"
    },
    "language_info": {
      "name": "python"
    }
  },
  "cells": [
    {
      "cell_type": "code",
      "source": [
        "import random\n",
        "import time\n",
        "\n",
        "target = random.choice('abcdefghijklmnopqrstuvwxyz')\n",
        "print('The target letter is:', target)\n",
        "\n",
        "start_time = time.time()\n",
        "\n",
        "while True:\n",
        "    user_input = input('Press the key when ready: ')\n",
        "    if user_input == target:\n",
        "        end_time = time.time()\n",
        "        break\n",
        "\n",
        "elapsed_time = end_time - start_time\n",
        "print('Elapsed time:', elapsed_time, 'seconds')\n"
      ],
      "metadata": {
        "id": "vcwV7IlfgZGO"
      },
      "execution_count": null,
      "outputs": []
    }
  ]
}