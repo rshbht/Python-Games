{
  "nbformat": 4,
  "nbformat_minor": 0,
  "metadata": {
    "colab": {
      "provenance": []
    },
    "kernelspec": {
      "name": "python3",
      "display_name": "Python 3"
    },
    "language_info": {
      "name": "python"
    }
  },
  "cells": [
    {
      "cell_type": "code",
      "execution_count": null,
      "metadata": {
        "id": "rYqUi6QvSKIW"
      },
      "outputs": [],
      "source": [
        "import random\n",
        "\n",
        "# Define the size of the board and the number of bombs\n",
        "board_size = 10\n",
        "num_bombs = 10\n",
        "\n",
        "# Define the board and the list of bombs\n",
        "board = [[' '] * board_size for i in range(board_size)]\n",
        "bombs = []\n",
        "\n",
        "# Place the bombs randomly on the board\n",
        "while len(bombs) < num_bombs:\n",
        "    row = random.randint(0, board_size-1)\n",
        "    col = random.randint(0, board_size-1)\n",
        "    if (row, col) not in bombs:\n",
        "        bombs.append((row, col))\n",
        "        board[row][col] = 'X'\n",
        "\n",
        "# Define a function to calculate the number of adjacent bombs\n",
        "def count_adjacent_bombs(row, col):\n",
        "    count = 0\n",
        "    for r in range(row-1, row+2):\n",
        "        for c in range(col-1, col+2):\n",
        "            if r >= 0 and r < board_size and c >= 0 and c < board_size:\n",
        "                if board[r][c] == 'X':\n",
        "                    count += 1\n",
        "    return count\n",
        "\n",
        "# Fill in the board with the number of adjacent bombs\n",
        "for row in range(board_size):\n",
        "    for col in range(board_size):\n",
        "        if board[row][col] != 'X':\n",
        "            count = count_adjacent_bombs(row, col)\n",
        "            if count > 0:\n",
        "                board[row][col] = str(count)\n",
        "\n",
        "# Define a function to print the board\n",
        "def print_board():\n",
        "    print('   ' + ' '.join([str(i) for i in range(board_size)]))\n",
        "    print('  +' + '-' * (board_size*2-1) + '+')\n",
        "    for row in range(board_size):\n",
        "        print('{} | {}'.format(row, ' '.join(board[row])))\n",
        "    print('  +' + '-' * (board_size*2-1) + '+')\n",
        "\n",
        "# Play the game\n",
        "while True:\n",
        "    print_board()\n",
        "    row = int(input(\"Enter row: \"))\n",
        "    col = int(input(\"Enter column: \"))\n",
        "    if (row, col) in bombs:\n",
        "        print_board()\n",
        "        print(\"Game over! You hit a bomb.\")\n",
        "        break\n",
        "    else:\n",
        "        board[row][col] = count_adjacent_bombs(row, col)\n",
        "        if board[row][col] == 0:\n",
        "            for r in range(row-1, row+2):\n",
        "                for c in range(col-1, col+2):\n",
        "                    if r >= 0 and r < board_size and c >= 0 and c < board_size:\n",
        "                        if board[r][c] == ' ':\n",
        "                            board[r][c] = count_adjacent_bombs(r, c)\n",
        "        if all(' ' not in row for row in board):\n",
        "            print_board()\n",
        "            print(\"Congratulations! You won!\")\n",
        "            break"
      ]
    }
  ]
}