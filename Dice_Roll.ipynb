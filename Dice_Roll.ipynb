{
  "nbformat": 4,
  "nbformat_minor": 0,
  "metadata": {
    "colab": {
      "provenance": []
    },
    "kernelspec": {
      "name": "python3",
      "display_name": "Python 3"
    },
    "language_info": {
      "name": "python"
    }
  },
  "cells": [
    {
      "cell_type": "code",
      "source": [
        "import random\n",
        "\n",
        "# Prompt user for input\n",
        "num_dice = int(input(\"Enter number of dice to throw: \"))\n",
        "num_rolls = int(input(\"Enter number of times to roll: \"))\n",
        "\n",
        "# Roll the dice and print the results\n",
        "for i in range(num_rolls):\n",
        "    roll_results = []\n",
        "    for j in range(num_dice):\n",
        "        roll_results.append(random.randint(1, 6))\n",
        "    print(\"Roll\", i+1, \":\", roll_results)\n"
      ],
      "metadata": {
        "id": "3jZUO6o6Bono"
      },
      "execution_count": null,
      "outputs": []
    }
  ]
}