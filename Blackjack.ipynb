{
  "nbformat": 4,
  "nbformat_minor": 0,
  "metadata": {
    "colab": {
      "provenance": []
    },
    "kernelspec": {
      "name": "python3",
      "display_name": "Python 3"
    },
    "language_info": {
      "name": "python"
    }
  },
  "cells": [
    {
      "cell_type": "code",
      "execution_count": null,
      "metadata": {
        "id": "NITBnSRHRjyc"
      },
      "outputs": [],
      "source": [
        "import random\n",
        "\n",
        "# Define the deck of cards\n",
        "deck = ['A', 2, 3, 4, 5, 6, 7, 8, 9, 10, 'J', 'Q', 'K'] * 4\n",
        "\n",
        "# Define the value of the cards\n",
        "card_value = {'A': 11, 'J': 10, 'Q': 10, 'K': 10}\n",
        "\n",
        "# Shuffle the deck\n",
        "random.shuffle(deck)\n",
        "\n",
        "# Deal the initial cards to the player and dealer\n",
        "player_hand = [deck.pop(), deck.pop()]\n",
        "dealer_hand = [deck.pop(), deck.pop()]\n",
        "\n",
        "# Define a function to calculate the value of a hand\n",
        "def calculate_hand(hand):\n",
        "    value = 0\n",
        "    num_aces = 0\n",
        "    for card in hand:\n",
        "        if card == 'A':\n",
        "            num_aces += 1\n",
        "        else:\n",
        "            value += card_value[card]\n",
        "    for i in range(num_aces):\n",
        "        if value + 11 <= 21:\n",
        "            value += 11\n",
        "        else:\n",
        "            value += 1\n",
        "    return value\n",
        "\n",
        "# Play the game\n",
        "while True:\n",
        "    # Show the player's hand and ask if they want to hit or stand\n",
        "    print(\"Your hand:\", player_hand)\n",
        "    print(\"Dealer's hand:\", [dealer_hand[0], '?'])\n",
        "    action = input(\"Do you want to hit or stand? \")\n",
        "    if action == 'hit':\n",
        "        player_hand.append(deck.pop())\n",
        "        if calculate_hand(player_hand) > 21:\n",
        "            print(\"Bust! You lose.\")\n",
        "            break\n",
        "    elif action == 'stand':\n",
        "        dealer_value = calculate_hand(dealer_hand)\n",
        "        while dealer_value < 17:\n",
        "            dealer_hand.append(deck.pop())\n",
        "            dealer_value = calculate_hand(dealer_hand)\n",
        "        print(\"Dealer's hand:\", dealer_hand)\n",
        "        if dealer_value > 21:\n",
        "            print(\"Dealer busts! You win.\")\n",
        "        elif calculate_hand(player_hand) > dealer_value:\n",
        "            print(\"You win!\")\n",
        "        elif calculate_hand(player_hand) < dealer_value:\n",
        "            print(\"You lose.\")\n",
        "        else:\n",
        "            print(\"It's a tie!\")\n",
        "        break"
      ]
    }
  ]
}